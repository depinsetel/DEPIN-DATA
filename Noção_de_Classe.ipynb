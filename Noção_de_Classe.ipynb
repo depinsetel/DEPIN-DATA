{
  "nbformat": 4,
  "nbformat_minor": 0,
  "metadata": {
    "colab": {
      "provenance": [],
      "authorship_tag": "ABX9TyOHlEQPAXLWA/lMflfA3XDq",
      "include_colab_link": true
    },
    "kernelspec": {
      "name": "python3",
      "display_name": "Python 3"
    },
    "language_info": {
      "name": "python"
    }
  },
  "cells": [
    {
      "cell_type": "markdown",
      "metadata": {
        "id": "view-in-github",
        "colab_type": "text"
      },
      "source": [
        "<a href=\"https://colab.research.google.com/github/depinsetel/DEPIN-DATA/blob/main/No%C3%A7%C3%A3o_de_Classe.ipynb\" target=\"_parent\"><img src=\"https://colab.research.google.com/assets/colab-badge.svg\" alt=\"Open In Colab\"/></a>"
      ]
    },
    {
      "cell_type": "markdown",
      "source": [
        "# Exemplo de criação de Classe\n",
        "\n",
        "Regras para criar uma classe em Python:\n",
        "\n",
        "  Definir a classe: Para definir uma classe em Python, você usa a palavra-chave class, seguida pelo nome da classe. Por convenção, os nomes das classes começam com uma letra maiúscula.\n",
        "  \n",
        "  Construtor (__init__): O método __init__ é um método especial em Python que é chamado automaticamente quando uma nova instância da classe é criada. Ele é usado para inicializar os atributos da classe. Lembre-se de que o nome do método de inicialização é precedido e seguido por dois sublinhados (underscores).\n",
        "\n",
        "  Atributos: Dentro do método __init__, você pode definir os atributos da classe usando a sintaxe self.nome_do_atributo = valor. Os atributos definidos aqui são específicos para cada instância da classe.\n",
        "\n",
        "  Outros métodos: Além do método __init__, você pode definir outros métodos dentro da classe para realizar diferentes ações. Esses métodos podem receber parâmetros, incluindo self, que é uma referência à própria instância da classe.\n",
        "\n",
        "Exemplo com a classe \"dog\":"
      ],
      "metadata": {
        "id": "SbZ_hvFw_7ld"
      }
    },
    {
      "cell_type": "code",
      "execution_count": 1,
      "metadata": {
        "id": "iU1DRw6p_69h"
      },
      "outputs": [],
      "source": [
        "class Dog:\n",
        "    # Essa função init é chamada automatica no trecho de código do corpo principal que que cria a instÂncia ( instância = espécie gêneto da classe)\n",
        "    def __init__(self, name):\n",
        "        self.name = name\n",
        "\n",
        "    # Aqui é criada auma função que é, na verdade, um método da classe\n",
        "    def sit(self):\n",
        "        print(self.name + \" está sentado.\")"
      ]
    },
    {
      "cell_type": "code",
      "source": [
        "# Criando uma instância da classe Dog\n",
        "my_dog = Dog('Boris') # automaticamente aqui é chamado def __init(self,name)"
      ],
      "metadata": {
        "id": "1eKoYnuWAJc9"
      },
      "execution_count": 2,
      "outputs": []
    },
    {
      "cell_type": "code",
      "source": [
        "# Acessando o atributo \"name\" da instância\n",
        "print(my_dog.name + \" é um grande cachorro\")"
      ],
      "metadata": {
        "colab": {
          "base_uri": "https://localhost:8080/"
        },
        "id": "7_EsuekBAJpe",
        "outputId": "6fea9700-93ee-4f28-f5f3-dd64fc572763"
      },
      "execution_count": 3,
      "outputs": [
        {
          "output_type": "stream",
          "name": "stdout",
          "text": [
            "Boris é um grande cachorro\n"
          ]
        }
      ]
    },
    {
      "cell_type": "code",
      "source": [
        "# Chamando o método \"sit\" da instância\n",
        "my_dog.sit()"
      ],
      "metadata": {
        "colab": {
          "base_uri": "https://localhost:8080/"
        },
        "id": "eG7d3n9-AM9t",
        "outputId": "2a8c2d60-5112-4e81-bbe8-6b5414bc3ffa"
      },
      "execution_count": 4,
      "outputs": [
        {
          "output_type": "stream",
          "name": "stdout",
          "text": [
            "Boris está sentado.\n"
          ]
        }
      ]
    }
  ]
}