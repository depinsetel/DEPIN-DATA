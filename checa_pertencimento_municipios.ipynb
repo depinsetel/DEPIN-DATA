{
  "nbformat": 4,
  "nbformat_minor": 0,
  "metadata": {
    "colab": {
      "provenance": [],
      "name": "checa_pertencimento_municipios.ipynb"
    },
    "kernelspec": {
      "name": "python3",
      "display_name": "Python 3"
    },
    "language_info": {
      "name": "python"
    }
  },
  "cells": [
    {
      "cell_type": "markdown",
      "source": [
        "# DEPIN - Script de checagem se um ponto pertende a um município"
      ],
      "metadata": {
        "id": "Bt7xWolnTs7-"
      }
    },
    {
      "cell_type": "code",
      "source": [
        "# Instalação de geobr com dados do Brasil e etc\n",
        "!pip install geobr geopandas shapely\n",
        "\n",
        "# Importando as bibliotecas necessárias\n",
        "import geopandas as gpd\n",
        "from shapely.geometry import Point\n",
        "import geobr"
      ],
      "metadata": {
        "id": "xwxRFI9mRsi3"
      },
      "execution_count": null,
      "outputs": []
    },
    {
      "cell_type": "markdown",
      "source": [
        "# Função que checa se o ponto A está dentro do limite do município"
      ],
      "metadata": {
        "id": "FqeOebQ4UGve"
      }
    },
    {
      "cell_type": "code",
      "source": [
        "# Função para verificar se um ponto está dentro dos limites de um município\n",
        "def verificar_ponto_em_municipio(LAT_a, LON_a, mun_alvo, UF_alvo):\n",
        "    # Carregar os limites do município de interesse usando a biblioteca geobr\n",
        "    municipios = geobr.read_municipality(code_muni='all', year=2020)\n",
        "\n",
        "    # Filtrar o município de interesse pelo nome e unidade da federação\n",
        "    municipio_alvo = municipios[(municipios['name_muni'] == mun_alvo) & (municipios['abbrev_state'] == UF_alvo)]\n",
        "\n",
        "    # Verificar se o município alvo foi encontrado\n",
        "    if municipio_alvo.empty:\n",
        "        print(f'Município \"{mun_alvo}\" não encontrado em \"{UF_alvo}\"')\n",
        "        return False\n",
        "\n",
        "    # Extrair o polígono do município alvo\n",
        "    poligono_municipio = municipio_alvo.geometry.iloc[0]\n",
        "\n",
        "    # Criar um objeto de ponto a partir das coordenadas fornecidas\n",
        "    ponto = Point(LON_a, LAT_a)\n",
        "\n",
        "    # Verificar se o ponto está dentro do polígono do município\n",
        "    if poligono_municipio.contains(ponto):\n",
        "        print(f'O ponto ({LAT_a}, {LON_a}) está dentro do município de \"{mun_alvo}\" em \"{UF_alvo}\"')\n",
        "        return True\n",
        "    else:\n",
        "        print(f'O ponto ({LAT_a}, {LON_a}) está fora do município de \"{mun_alvo}\" em \"{UF_alvo}\"')\n",
        "        return False"
      ],
      "metadata": {
        "id": "_9BDSKBHRs1V"
      },
      "execution_count": null,
      "outputs": []
    },
    {
      "cell_type": "markdown",
      "source": [
        "# Programa Principal"
      ],
      "metadata": {
        "id": "j3vkmqDfT_qU"
      }
    },
    {
      "cell_type": "code",
      "source": [
        "# Coordenadas do PONTO A (latitude e longitude) para checar territorialidade\n",
        "# Ponto A no começo da ponto da Barra em Fortaleza\n",
        "LAT_a = -3.701267865249007\n",
        "LON_a = -38.585147170691954\n",
        "\n",
        "# Nome do município alvo e UF - recipiente ou não do PONTO A\n",
        "mun_alvo = 'Fortaleza'  # Nome do município\n",
        "UF_alvo = 'CE'  # Unidade da federação (estado)\n",
        "\n",
        "# Chamar a função para verificar se o ponto está dentro do município alvo\n",
        "verificar_ponto_em_municipio(LAT_a, LON_a, mun_alvo, UF_alvo)"
      ],
      "metadata": {
        "colab": {
          "base_uri": "https://localhost:8080/"
        },
        "id": "n1mUavDzT-Y9",
        "outputId": "b5b54909-cf62-4476-8d95-0a952020d4f3"
      },
      "execution_count": null,
      "outputs": [
        {
          "output_type": "stream",
          "name": "stdout",
          "text": [
            "O ponto (-3.701267865249007, -38.585147170691954) está dentro do município de \"Fortaleza\" em \"CE\"\n"
          ]
        },
        {
          "output_type": "execute_result",
          "data": {
            "text/plain": [
              "True"
            ]
          },
          "metadata": {},
          "execution_count": 11
        }
      ]
    },
    {
      "cell_type": "markdown",
      "source": [
        "# Plotagem do PONTO e dos limites do município"
      ],
      "metadata": {
        "id": "UrV4kTtIVXDV"
      }
    },
    {
      "cell_type": "code",
      "source": [
        "import folium\n",
        "import geobr\n",
        "\n",
        "# Carregar os limites do município de interesse usando a biblioteca geobr\n",
        "municipios = geobr.read_municipality(code_muni='all', year=2020)\n",
        "\n",
        "# Filtrar o município de interesse pelo nome e unidade da federação\n",
        "municipio_alvo = municipios[(municipios['name_muni'] == mun_alvo) & (municipios['abbrev_state'] == UF_alvo)]\n",
        "\n",
        "# Extrair o polígono do município alvo\n",
        "poligono_municipio = municipio_alvo.iloc[0].geometry\n",
        "\n",
        "# Criar o mapa centrado nas coordenadas do ponto A\n",
        "mapa = folium.Map(location=[LAT_a, LON_a], zoom_start=10)\n",
        "\n",
        "# Adicionar o polígono do município ao mapa\n",
        "folium.GeoJson(poligono_municipio).add_to(mapa)\n",
        "\n",
        "# Adicionar um marcador para o ponto A\n",
        "folium.Marker(location=[LAT_a, LON_a], popup='Ponto A').add_to(mapa)\n",
        "\n",
        "# Exibir o mapa\n",
        "mapa\n"
      ],
      "metadata": {
        "colab": {
          "base_uri": "https://localhost:8080/",
          "height": 532
        },
        "id": "1P6ObdDkVWqe",
        "outputId": "8502da29-f3ed-49ce-9b4c-27a6a7d90d47"
      },
      "execution_count": null,
      "outputs": [
        {
          "output_type": "execute_result",
          "data": {
            "text/plain": [
              "<folium.folium.Map at 0x7967f5190d00>"
            ],
            "text/html": [
              "<div style=\"width:100%;\"><div style=\"position:relative;width:100%;height:0;padding-bottom:60%;\"><span style=\"color:#565656\">Make this Notebook Trusted to load map: File -> Trust Notebook</span><iframe srcdoc=\"&lt;!DOCTYPE html&gt;\n",
              "&lt;html&gt;\n",
              "&lt;head&gt;\n",
              "    \n",
              "    &lt;meta http-equiv=&quot;content-type&quot; content=&quot;text/html; charset=UTF-8&quot; /&gt;\n",
              "    \n",
              "        &lt;script&gt;\n",
              "            L_NO_TOUCH = false;\n",
              "            L_DISABLE_3D = false;\n",
              "        &lt;/script&gt;\n",
              "    \n",
              "    &lt;style&gt;html, body {width: 100%;height: 100%;margin: 0;padding: 0;}&lt;/style&gt;\n",
              "    &lt;style&gt;#map {position:absolute;top:0;bottom:0;right:0;left:0;}&lt;/style&gt;\n",
              "    &lt;script src=&quot;https://cdn.jsdelivr.net/npm/leaflet@1.9.3/dist/leaflet.js&quot;&gt;&lt;/script&gt;\n",
              "    &lt;script src=&quot;https://code.jquery.com/jquery-1.12.4.min.js&quot;&gt;&lt;/script&gt;\n",
              "    &lt;script src=&quot;https://cdn.jsdelivr.net/npm/bootstrap@5.2.2/dist/js/bootstrap.bundle.min.js&quot;&gt;&lt;/script&gt;\n",
              "    &lt;script src=&quot;https://cdnjs.cloudflare.com/ajax/libs/Leaflet.awesome-markers/2.0.2/leaflet.awesome-markers.js&quot;&gt;&lt;/script&gt;\n",
              "    &lt;link rel=&quot;stylesheet&quot; href=&quot;https://cdn.jsdelivr.net/npm/leaflet@1.9.3/dist/leaflet.css&quot;/&gt;\n",
              "    &lt;link rel=&quot;stylesheet&quot; href=&quot;https://cdn.jsdelivr.net/npm/bootstrap@5.2.2/dist/css/bootstrap.min.css&quot;/&gt;\n",
              "    &lt;link rel=&quot;stylesheet&quot; href=&quot;https://netdna.bootstrapcdn.com/bootstrap/3.0.0/css/bootstrap.min.css&quot;/&gt;\n",
              "    &lt;link rel=&quot;stylesheet&quot; href=&quot;https://cdn.jsdelivr.net/npm/@fortawesome/fontawesome-free@6.2.0/css/all.min.css&quot;/&gt;\n",
              "    &lt;link rel=&quot;stylesheet&quot; href=&quot;https://cdnjs.cloudflare.com/ajax/libs/Leaflet.awesome-markers/2.0.2/leaflet.awesome-markers.css&quot;/&gt;\n",
              "    &lt;link rel=&quot;stylesheet&quot; href=&quot;https://cdn.jsdelivr.net/gh/python-visualization/folium/folium/templates/leaflet.awesome.rotate.min.css&quot;/&gt;\n",
              "    \n",
              "            &lt;meta name=&quot;viewport&quot; content=&quot;width=device-width,\n",
              "                initial-scale=1.0, maximum-scale=1.0, user-scalable=no&quot; /&gt;\n",
              "            &lt;style&gt;\n",
              "                #map_9b4a8671b6f0be642e537e3d5e4d9e08 {\n",
              "                    position: relative;\n",
              "                    width: 100.0%;\n",
              "                    height: 100.0%;\n",
              "                    left: 0.0%;\n",
              "                    top: 0.0%;\n",
              "                }\n",
              "                .leaflet-container { font-size: 1rem; }\n",
              "            &lt;/style&gt;\n",
              "        \n",
              "&lt;/head&gt;\n",
              "&lt;body&gt;\n",
              "    \n",
              "    \n",
              "            &lt;div class=&quot;folium-map&quot; id=&quot;map_9b4a8671b6f0be642e537e3d5e4d9e08&quot; &gt;&lt;/div&gt;\n",
              "        \n",
              "&lt;/body&gt;\n",
              "&lt;script&gt;\n",
              "    \n",
              "    \n",
              "            var map_9b4a8671b6f0be642e537e3d5e4d9e08 = L.map(\n",
              "                &quot;map_9b4a8671b6f0be642e537e3d5e4d9e08&quot;,\n",
              "                {\n",
              "                    center: [-3.701267865249007, -38.585147170691954],\n",
              "                    crs: L.CRS.EPSG3857,\n",
              "                    zoom: 10,\n",
              "                    zoomControl: true,\n",
              "                    preferCanvas: false,\n",
              "                }\n",
              "            );\n",
              "\n",
              "            \n",
              "\n",
              "        \n",
              "    \n",
              "            var tile_layer_2ab73f0f1b76931510b403d9cd6dcc01 = L.tileLayer(\n",
              "                &quot;https://{s}.tile.openstreetmap.org/{z}/{x}/{y}.png&quot;,\n",
              "                {&quot;attribution&quot;: &quot;Data by \\u0026copy; \\u003ca target=\\&quot;_blank\\&quot; href=\\&quot;http://openstreetmap.org\\&quot;\\u003eOpenStreetMap\\u003c/a\\u003e, under \\u003ca target=\\&quot;_blank\\&quot; href=\\&quot;http://www.openstreetmap.org/copyright\\&quot;\\u003eODbL\\u003c/a\\u003e.&quot;, &quot;detectRetina&quot;: false, &quot;maxNativeZoom&quot;: 18, &quot;maxZoom&quot;: 18, &quot;minZoom&quot;: 0, &quot;noWrap&quot;: false, &quot;opacity&quot;: 1, &quot;subdomains&quot;: &quot;abc&quot;, &quot;tms&quot;: false}\n",
              "            ).addTo(map_9b4a8671b6f0be642e537e3d5e4d9e08);\n",
              "        \n",
              "    \n",
              "\n",
              "        function geo_json_20b239b59050fab2f66b669788d1869e_onEachFeature(feature, layer) {\n",
              "            layer.on({\n",
              "            });\n",
              "        };\n",
              "        var geo_json_20b239b59050fab2f66b669788d1869e = L.geoJson(null, {\n",
              "                onEachFeature: geo_json_20b239b59050fab2f66b669788d1869e_onEachFeature,\n",
              "            \n",
              "        });\n",
              "\n",
              "        function geo_json_20b239b59050fab2f66b669788d1869e_add (data) {\n",
              "            geo_json_20b239b59050fab2f66b669788d1869e\n",
              "                .addData(data)\n",
              "                .addTo(map_9b4a8671b6f0be642e537e3d5e4d9e08);\n",
              "        }\n",
              "            geo_json_20b239b59050fab2f66b669788d1869e_add({&quot;coordinates&quot;: [[[[-38.58413423499999, -3.693683970999995], [-38.581404268, -3.6938181649999984], [-38.581131059, -3.692130540000009], [-38.578306004999995, -3.6956837090000088], [-38.576327514, -3.694496589999996], [-38.57721046, -3.695889887000003], [-38.575481411999995, -3.6982195820000037], [-38.571012849, -3.700646936000005], [-38.570405801, -3.6995695170000067], [-38.570524292, -3.7008980270000005], [-38.566663488, -3.7028828340000057], [-38.5630915, -3.7031390710000056], [-38.56204232799999, -3.7005946630000066], [-38.56424719899999, -3.698644965999997], [-38.563270394, -3.698512836000001], [-38.56189943, -3.7004749120000016], [-38.563193541, -3.703810297999998], [-38.56002674599999, -3.705201346999999], [-38.559058078, -3.7038730440000065], [-38.55584450599999, -3.706671316000009], [-38.554677952, -3.7048037190000076], [-38.555377435, -3.706310971], [-38.55422396, -3.7073885789999963], [-38.55253171599999, -3.708536650000004], [-38.551317200999996, -3.7072913610000064], [-38.551947856999995, -3.7087637450000077], [-38.54926888799999, -3.7105631359999984], [-38.54754211099999, -3.7087430110000064], [-38.548420555, -3.7107486330000072], [-38.546168256, -3.712135762000005], [-38.545334816, -3.711189860999999], [-38.545775125999995, -3.712123591000011], [-38.54349890099999, -3.7136902210000007], [-38.54134535499999, -3.7109690110000018], [-38.542390683, -3.714252139999994], [-38.539363628, -3.716368893], [-38.52559007999999, -3.7199449799999975], [-38.52432856499999, -3.7174260409999937], [-38.522219892, -3.7174847380000093], [-38.527557763999994, -3.7160873700000057], [-38.526521659, -3.7154405439999976], [-38.52068286, -3.7179027800000046], [-38.519790527, -3.715760031999997], [-38.519920459, -3.717818589000001], [-38.516941873, -3.718331578999996], [-38.516367347999996, -3.7161436329999984], [-38.516798894999994, -3.718367404], [-38.512700384, -3.719023379000005], [-38.51082646099999, -3.713444459000001], [-38.511234905, -3.7192978280000055], [-38.504609621, -3.722034771999997], [-38.504067307, -3.720472333000002], [-38.504549540999996, -3.7229562670000056], [-38.49585167699999, -3.725033732000004], [-38.49073844699999, -3.7242758069999997], [-38.488133555999994, -3.722121070000005], [-38.48229105699999, -3.722240738000011], [-38.476215197, -3.7193215260000025], [-38.47727270699999, -3.7153169289999997], [-38.482563901999995, -3.7122802150000087], [-38.483184765999994, -3.709898972000009], [-38.482409073, -3.7122083169999973], [-38.47738291499999, -3.7150518220000075], [-38.472882146, -3.706242674999997], [-38.476113598999994, -3.7010864499999965], [-38.47948546600001, -3.7002147879999985], [-38.482500295, -3.6987325409999983], [-38.473587735, -3.7016354700000043], [-38.470511136, -3.7067917759999975], [-38.467150578, -3.7086208330000057], [-38.460302514999995, -3.7050640210000085], [-38.46403002, -3.707541836000003], [-38.463483442, -3.712752846000006], [-38.456190463999995, -3.7311070049999944], [-38.435821536, -3.7705704860000013], [-38.435250338, -3.7695408860000046], [-38.433700202, -3.7716222660000005], [-38.420943783999995, -3.794007282000002], [-38.402214014, -3.820860139000006], [-38.40135706, -3.8265851290000055], [-38.405931141, -3.823985743000004], [-38.40586986899999, -3.821542521000007], [-38.40841463299999, -3.819610963000003], [-38.442929198, -3.801549905000004], [-38.44600314, -3.805199467999999], [-38.442218906, -3.811672960000007], [-38.442603756, -3.815791095000003], [-38.445189672, -3.819266160000011], [-38.445740783, -3.8264200619999973], [-38.449888734999995, -3.837874054000001], [-38.458810039, -3.8430671310000077], [-38.46362411599999, -3.843611228999997], [-38.464020051, -3.8420821890000068], [-38.466333952, -3.843507176999995], [-38.467849908999995, -3.8497012000000006], [-38.47105999, -3.850696135000003], [-38.471309896, -3.853629176000003], [-38.475688946, -3.8550112009999973], [-38.475344707000005, -3.8578180090000083], [-38.477774024999995, -3.8592111690000066], [-38.477962348000005, -3.862237304999999], [-38.48100914799999, -3.863735273000004], [-38.483264852, -3.8632175610000004], [-38.488375384, -3.8668181190000004], [-38.491880933999994, -3.874461172000003], [-38.493898797, -3.8839541740000034], [-38.498279059, -3.88750022], [-38.504554711, -3.888240177000008], [-38.505755, -3.890542000000012], [-38.508505, -3.888748], [-38.511633389, -3.889068609000011], [-38.51406444, -3.894603063000005], [-38.531158, -3.8793670000000056], [-38.526677346999996, -3.8709459250000045], [-38.52051599999999, -3.8672530000000043], [-38.518954, -3.864611000000005], [-38.542319334, -3.859190181999998], [-38.541358713, -3.853367271000002], [-38.56548804, -3.8436333700000014], [-38.58759956699999, -3.8389112610000082], [-38.594515240999996, -3.8339471360000004], [-38.614695315999995, -3.8239349490000003], [-38.61414946399999, -3.8228570180000028], [-38.61813467099999, -3.8212180049999995], [-38.622501189, -3.8169673009999943], [-38.621520133999994, -3.8152591109999983], [-38.630527041, -3.8097440719999973], [-38.629767704, -3.806536654000008], [-38.637726045, -3.804689425000005], [-38.637902937999996, -3.8013953720000084], [-38.634363835, -3.7977021040000123], [-38.635273466, -3.791958352999999], [-38.633429273999994, -3.7905808530000065], [-38.631544298, -3.78368741600001], [-38.628028308000005, -3.7846776810000025], [-38.625447656, -3.780958553000009], [-38.62251637199999, -3.7817875020000002], [-38.62145316699999, -3.7770286760000022], [-38.61156078100001, -3.756746553999998], [-38.601332441, -3.7484655669999993], [-38.59893107, -3.7422291360000033], [-38.60119002399999, -3.7412650300000014], [-38.602305964, -3.7368889359999997], [-38.601143556, -3.7344497680000015], [-38.605998195, -3.727069358000006], [-38.609432424999994, -3.7240216419999945], [-38.614780211, -3.7227729309999984], [-38.616197317, -3.720787245000004], [-38.617512309, -3.7220930549999993], [-38.616893798, -3.719284060000002], [-38.61922202299999, -3.719549239999997], [-38.62019649199999, -3.7182718170000024], [-38.61784526, -3.7103107310000008], [-38.621117411, -3.7095815820000038], [-38.62251918599999, -3.703329697999997], [-38.621046502999995, -3.7023791280000045], [-38.595581597999995, -3.7030197209999964], [-38.589441363, -3.699167258000007], [-38.586665249, -3.6920259710000023], [-38.58413423499999, -3.693683970999995]]]], &quot;type&quot;: &quot;MultiPolygon&quot;});\n",
              "\n",
              "        \n",
              "    \n",
              "            var marker_15f9001dcac59bea0d9f516ef9c01951 = L.marker(\n",
              "                [-3.701267865249007, -38.585147170691954],\n",
              "                {}\n",
              "            ).addTo(map_9b4a8671b6f0be642e537e3d5e4d9e08);\n",
              "        \n",
              "    \n",
              "        var popup_ca060c36b19743bb96578b6253ed7b82 = L.popup({&quot;maxWidth&quot;: &quot;100%&quot;});\n",
              "\n",
              "        \n",
              "            \n",
              "                var html_568a6f18181b5df7389e1154086c87a8 = $(`&lt;div id=&quot;html_568a6f18181b5df7389e1154086c87a8&quot; style=&quot;width: 100.0%; height: 100.0%;&quot;&gt;Ponto A&lt;/div&gt;`)[0];\n",
              "                popup_ca060c36b19743bb96578b6253ed7b82.setContent(html_568a6f18181b5df7389e1154086c87a8);\n",
              "            \n",
              "        \n",
              "\n",
              "        marker_15f9001dcac59bea0d9f516ef9c01951.bindPopup(popup_ca060c36b19743bb96578b6253ed7b82)\n",
              "        ;\n",
              "\n",
              "        \n",
              "    \n",
              "&lt;/script&gt;\n",
              "&lt;/html&gt;\" style=\"position:absolute;width:100%;height:100%;left:0;top:0;border:none !important;\" allowfullscreen webkitallowfullscreen mozallowfullscreen></iframe></div></div>"
            ]
          },
          "metadata": {},
          "execution_count": 12
        }
      ]
    }
  ]
}